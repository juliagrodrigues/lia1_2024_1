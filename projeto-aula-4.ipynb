{
 "cells": [
  {
   "cell_type": "markdown",
   "id": "eb197562",
   "metadata": {
    "execution": {
     "iopub.execute_input": "2024-03-27T13:21:12.642890Z",
     "iopub.status.busy": "2024-03-27T13:21:12.642074Z",
     "iopub.status.idle": "2024-03-27T13:21:12.648201Z",
     "shell.execute_reply": "2024-03-27T13:21:12.647116Z",
     "shell.execute_reply.started": "2024-03-27T13:21:12.642858Z"
    },
    "papermill": {
     "duration": 0.006344,
     "end_time": "2024-03-27T13:51:56.190213",
     "exception": false,
     "start_time": "2024-03-27T13:51:56.183869",
     "status": "completed"
    },
    "tags": []
   },
   "source": [
    "<hr style=\"height:10px\"> \n",
    " \n",
    "<div class='container2'>\n",
    "\t\t<div>\n",
    "\t\t\t<img src=\"https://w1.pngwing.com/pngs/587/799/png-transparent-electricity-symbol-logo-lightning-computer-monitors-yellow-triangle-technology-line-thumbnail.png\" \n",
    "                 ALIGN='left' style='width:10em'>\n",
    "\t\t</div>\t\n",
    "\t<div style='padding: 0 7em 2em 12em;'>\n",
    "\t<h1>Laboratório de Inovação e Automação 1 (LIA 1)</h1>\n",
    "\t<div style=\"font-size:12pt;float:left;\"> 2024/1 | 24M34 | Sala 200 CAE</div><br><br>\n",
    "    <div style=\"font-size:12pt;float:left;\"><b>Projetos de Inteligência Artificial</b></div>\n",
    "\t</div>\n",
    "</div>\n",
    "\n",
    "\n",
    " <hr style=\"height:5px\"> \n",
    "\n",
    "    \n",
    "<h2>Introdução ao Ambiente de Projetos - Python</h2>\n",
    "\n",
    "Notebook desenvolvido por: <a href=\"https://www.linkedin.com/in/juliiajgr\"> Júlia Gomes Rodrigues </a>\n",
    "\n",
    " <hr style=\"height:2px\">"
   ]
  },
  {
   "cell_type": "code",
   "execution_count": 1,
   "id": "689499a2",
   "metadata": {
    "execution": {
     "iopub.execute_input": "2024-03-27T13:51:56.204228Z",
     "iopub.status.busy": "2024-03-27T13:51:56.203199Z",
     "iopub.status.idle": "2024-03-27T13:51:56.215315Z",
     "shell.execute_reply": "2024-03-27T13:51:56.214153Z"
    },
    "papermill": {
     "duration": 0.021736,
     "end_time": "2024-03-27T13:51:56.217819",
     "exception": false,
     "start_time": "2024-03-27T13:51:56.196083",
     "status": "completed"
    },
    "tags": []
   },
   "outputs": [
    {
     "name": "stdout",
     "output_type": "stream",
     "text": [
      "A versão em uso é 3.10.13.\n"
     ]
    }
   ],
   "source": [
    "from platform import python_version\n",
    "print(f'A versão em uso é {python_version()}.')"
   ]
  },
  {
   "cell_type": "code",
   "execution_count": 2,
   "id": "b175c61d",
   "metadata": {
    "execution": {
     "iopub.execute_input": "2024-03-27T13:51:56.232554Z",
     "iopub.status.busy": "2024-03-27T13:51:56.232164Z",
     "iopub.status.idle": "2024-03-27T13:51:56.239790Z",
     "shell.execute_reply": "2024-03-27T13:51:56.238644Z"
    },
    "papermill": {
     "duration": 0.017065,
     "end_time": "2024-03-27T13:51:56.241943",
     "exception": false,
     "start_time": "2024-03-27T13:51:56.224878",
     "status": "completed"
    },
    "tags": []
   },
   "outputs": [
    {
     "data": {
      "text/plain": [
       "'3.10.13'"
      ]
     },
     "execution_count": 2,
     "metadata": {},
     "output_type": "execute_result"
    }
   ],
   "source": [
    "python_version()"
   ]
  },
  {
   "cell_type": "code",
   "execution_count": 3,
   "id": "a6c6d837",
   "metadata": {
    "execution": {
     "iopub.execute_input": "2024-03-27T13:51:56.256418Z",
     "iopub.status.busy": "2024-03-27T13:51:56.256057Z",
     "iopub.status.idle": "2024-03-27T13:51:56.260877Z",
     "shell.execute_reply": "2024-03-27T13:51:56.259731Z"
    },
    "papermill": {
     "duration": 0.015173,
     "end_time": "2024-03-27T13:51:56.263248",
     "exception": false,
     "start_time": "2024-03-27T13:51:56.248075",
     "status": "completed"
    },
    "tags": []
   },
   "outputs": [
    {
     "name": "stdout",
     "output_type": "stream",
     "text": [
      "Bye bye, World!\n"
     ]
    }
   ],
   "source": [
    "# Verificar se o Python está funcionando\n",
    "print('Bye bye, World!')"
   ]
  },
  {
   "cell_type": "markdown",
   "id": "60871129",
   "metadata": {
    "papermill": {
     "duration": 0.006344,
     "end_time": "2024-03-27T13:51:56.275884",
     "exception": false,
     "start_time": "2024-03-27T13:51:56.269540",
     "status": "completed"
    },
    "tags": []
   },
   "source": [
    "# Operadores Aritméticos"
   ]
  },
  {
   "cell_type": "code",
   "execution_count": 4,
   "id": "0ab84484",
   "metadata": {
    "execution": {
     "iopub.execute_input": "2024-03-27T13:51:56.290016Z",
     "iopub.status.busy": "2024-03-27T13:51:56.289623Z",
     "iopub.status.idle": "2024-03-27T13:51:56.294559Z",
     "shell.execute_reply": "2024-03-27T13:51:56.293882Z"
    },
    "papermill": {
     "duration": 0.014373,
     "end_time": "2024-03-27T13:51:56.296383",
     "exception": false,
     "start_time": "2024-03-27T13:51:56.282010",
     "status": "completed"
    },
    "tags": []
   },
   "outputs": [
    {
     "data": {
      "text/plain": [
       "2"
      ]
     },
     "execution_count": 4,
     "metadata": {},
     "output_type": "execute_result"
    }
   ],
   "source": [
    "# Adição\n",
    "1 + 1"
   ]
  },
  {
   "cell_type": "code",
   "execution_count": 5,
   "id": "88458cee",
   "metadata": {
    "execution": {
     "iopub.execute_input": "2024-03-27T13:51:56.310869Z",
     "iopub.status.busy": "2024-03-27T13:51:56.310510Z",
     "iopub.status.idle": "2024-03-27T13:51:56.315781Z",
     "shell.execute_reply": "2024-03-27T13:51:56.314820Z"
    },
    "papermill": {
     "duration": 0.01513,
     "end_time": "2024-03-27T13:51:56.317833",
     "exception": false,
     "start_time": "2024-03-27T13:51:56.302703",
     "status": "completed"
    },
    "tags": []
   },
   "outputs": [
    {
     "data": {
      "text/plain": [
       "1"
      ]
     },
     "execution_count": 5,
     "metadata": {},
     "output_type": "execute_result"
    }
   ],
   "source": [
    "# Subtração\n",
    "2 - 1"
   ]
  },
  {
   "cell_type": "code",
   "execution_count": 6,
   "id": "f7404b4c",
   "metadata": {
    "execution": {
     "iopub.execute_input": "2024-03-27T13:51:56.332503Z",
     "iopub.status.busy": "2024-03-27T13:51:56.332135Z",
     "iopub.status.idle": "2024-03-27T13:51:56.338016Z",
     "shell.execute_reply": "2024-03-27T13:51:56.337125Z"
    },
    "papermill": {
     "duration": 0.015407,
     "end_time": "2024-03-27T13:51:56.339946",
     "exception": false,
     "start_time": "2024-03-27T13:51:56.324539",
     "status": "completed"
    },
    "tags": []
   },
   "outputs": [
    {
     "data": {
      "text/plain": [
       "4"
      ]
     },
     "execution_count": 6,
     "metadata": {},
     "output_type": "execute_result"
    }
   ],
   "source": [
    "# Multiplicação\n",
    "2 * 2"
   ]
  },
  {
   "cell_type": "code",
   "execution_count": 7,
   "id": "14454a8b",
   "metadata": {
    "execution": {
     "iopub.execute_input": "2024-03-27T13:51:56.356625Z",
     "iopub.status.busy": "2024-03-27T13:51:56.356266Z",
     "iopub.status.idle": "2024-03-27T13:51:56.361992Z",
     "shell.execute_reply": "2024-03-27T13:51:56.360985Z"
    },
    "papermill": {
     "duration": 0.017464,
     "end_time": "2024-03-27T13:51:56.364268",
     "exception": false,
     "start_time": "2024-03-27T13:51:56.346804",
     "status": "completed"
    },
    "tags": []
   },
   "outputs": [
    {
     "data": {
      "text/plain": [
       "1.5"
      ]
     },
     "execution_count": 7,
     "metadata": {},
     "output_type": "execute_result"
    }
   ],
   "source": [
    "# Divisão\n",
    "3 / 2"
   ]
  },
  {
   "cell_type": "code",
   "execution_count": 8,
   "id": "6b209f1b",
   "metadata": {
    "execution": {
     "iopub.execute_input": "2024-03-27T13:51:56.379692Z",
     "iopub.status.busy": "2024-03-27T13:51:56.378970Z",
     "iopub.status.idle": "2024-03-27T13:51:56.384953Z",
     "shell.execute_reply": "2024-03-27T13:51:56.384073Z"
    },
    "papermill": {
     "duration": 0.015916,
     "end_time": "2024-03-27T13:51:56.386946",
     "exception": false,
     "start_time": "2024-03-27T13:51:56.371030",
     "status": "completed"
    },
    "tags": []
   },
   "outputs": [
    {
     "data": {
      "text/plain": [
       "16"
      ]
     },
     "execution_count": 8,
     "metadata": {},
     "output_type": "execute_result"
    }
   ],
   "source": [
    "# Potência\n",
    "4 ** 2"
   ]
  },
  {
   "cell_type": "code",
   "execution_count": 9,
   "id": "0d34a820",
   "metadata": {
    "execution": {
     "iopub.execute_input": "2024-03-27T13:51:56.402596Z",
     "iopub.status.busy": "2024-03-27T13:51:56.401750Z",
     "iopub.status.idle": "2024-03-27T13:51:56.408128Z",
     "shell.execute_reply": "2024-03-27T13:51:56.407012Z"
    },
    "papermill": {
     "duration": 0.016681,
     "end_time": "2024-03-27T13:51:56.410394",
     "exception": false,
     "start_time": "2024-03-27T13:51:56.393713",
     "status": "completed"
    },
    "tags": []
   },
   "outputs": [
    {
     "data": {
      "text/plain": [
       "1"
      ]
     },
     "execution_count": 9,
     "metadata": {},
     "output_type": "execute_result"
    }
   ],
   "source": [
    "# Módulo (resto da divisão)\n",
    "10 % 3"
   ]
  },
  {
   "cell_type": "markdown",
   "id": "02fc7901",
   "metadata": {
    "papermill": {
     "duration": 0.006829,
     "end_time": "2024-03-27T13:51:56.424584",
     "exception": false,
     "start_time": "2024-03-27T13:51:56.417755",
     "status": "completed"
    },
    "tags": []
   },
   "source": [
    "# Tipo de Dados (Type)"
   ]
  },
  {
   "cell_type": "code",
   "execution_count": 10,
   "id": "31ae85a7",
   "metadata": {
    "execution": {
     "iopub.execute_input": "2024-03-27T13:51:56.440257Z",
     "iopub.status.busy": "2024-03-27T13:51:56.439904Z",
     "iopub.status.idle": "2024-03-27T13:51:56.445650Z",
     "shell.execute_reply": "2024-03-27T13:51:56.444607Z"
    },
    "papermill": {
     "duration": 0.016442,
     "end_time": "2024-03-27T13:51:56.447981",
     "exception": false,
     "start_time": "2024-03-27T13:51:56.431539",
     "status": "completed"
    },
    "tags": []
   },
   "outputs": [
    {
     "data": {
      "text/plain": [
       "int"
      ]
     },
     "execution_count": 10,
     "metadata": {},
     "output_type": "execute_result"
    }
   ],
   "source": [
    "# Qual o tipo do (?) -> Inteiro\n",
    "type(5)"
   ]
  },
  {
   "cell_type": "code",
   "execution_count": 11,
   "id": "c152907f",
   "metadata": {
    "execution": {
     "iopub.execute_input": "2024-03-27T13:51:56.464286Z",
     "iopub.status.busy": "2024-03-27T13:51:56.463535Z",
     "iopub.status.idle": "2024-03-27T13:51:56.470363Z",
     "shell.execute_reply": "2024-03-27T13:51:56.469340Z"
    },
    "papermill": {
     "duration": 0.017231,
     "end_time": "2024-03-27T13:51:56.472378",
     "exception": false,
     "start_time": "2024-03-27T13:51:56.455147",
     "status": "completed"
    },
    "tags": []
   },
   "outputs": [
    {
     "data": {
      "text/plain": [
       "float"
      ]
     },
     "execution_count": 11,
     "metadata": {},
     "output_type": "execute_result"
    }
   ],
   "source": [
    "# Qual o tipo do (?) -> Float - Decimal\n",
    "type(5.0)"
   ]
  },
  {
   "cell_type": "code",
   "execution_count": 12,
   "id": "5e6e3417",
   "metadata": {
    "execution": {
     "iopub.execute_input": "2024-03-27T13:51:56.489425Z",
     "iopub.status.busy": "2024-03-27T13:51:56.489038Z",
     "iopub.status.idle": "2024-03-27T13:51:56.494795Z",
     "shell.execute_reply": "2024-03-27T13:51:56.493951Z"
    },
    "papermill": {
     "duration": 0.01691,
     "end_time": "2024-03-27T13:51:56.496863",
     "exception": false,
     "start_time": "2024-03-27T13:51:56.479953",
     "status": "completed"
    },
    "tags": []
   },
   "outputs": [
    {
     "data": {
      "text/plain": [
       "str"
      ]
     },
     "execution_count": 12,
     "metadata": {},
     "output_type": "execute_result"
    }
   ],
   "source": [
    "# Qual o tipo do (?) -> String\n",
    "a = 'Estudando Python!'\n",
    "type(a)"
   ]
  },
  {
   "cell_type": "markdown",
   "id": "13b5cdae",
   "metadata": {
    "papermill": {
     "duration": 0.007421,
     "end_time": "2024-03-27T13:51:56.511738",
     "exception": false,
     "start_time": "2024-03-27T13:51:56.504317",
     "status": "completed"
    },
    "tags": []
   },
   "source": []
  },
  {
   "cell_type": "markdown",
   "id": "f10f3916",
   "metadata": {
    "papermill": {
     "duration": 0.007149,
     "end_time": "2024-03-27T13:51:56.526461",
     "exception": false,
     "start_time": "2024-03-27T13:51:56.519312",
     "status": "completed"
    },
    "tags": []
   },
   "source": [
    "# Condicional if\n"
   ]
  },
  {
   "cell_type": "code",
   "execution_count": 13,
   "id": "98d2ffe5",
   "metadata": {
    "execution": {
     "iopub.execute_input": "2024-03-27T13:51:56.543195Z",
     "iopub.status.busy": "2024-03-27T13:51:56.542808Z",
     "iopub.status.idle": "2024-03-27T13:51:56.548173Z",
     "shell.execute_reply": "2024-03-27T13:51:56.547160Z"
    },
    "papermill": {
     "duration": 0.016427,
     "end_time": "2024-03-27T13:51:56.550405",
     "exception": false,
     "start_time": "2024-03-27T13:51:56.533978",
     "status": "completed"
    },
    "tags": []
   },
   "outputs": [
    {
     "name": "stdout",
     "output_type": "stream",
     "text": [
      "A sentença é verdadeira!\n"
     ]
    }
   ],
   "source": [
    "# Condicional if (Se)\n",
    "if 5 > 2:\n",
    "    print(\"A sentença é verdadeira!\")"
   ]
  },
  {
   "cell_type": "code",
   "execution_count": 14,
   "id": "68620932",
   "metadata": {
    "execution": {
     "iopub.execute_input": "2024-03-27T13:51:56.567472Z",
     "iopub.status.busy": "2024-03-27T13:51:56.567052Z",
     "iopub.status.idle": "2024-03-27T13:51:56.572570Z",
     "shell.execute_reply": "2024-03-27T13:51:56.571399Z"
    },
    "papermill": {
     "duration": 0.016717,
     "end_time": "2024-03-27T13:51:56.574811",
     "exception": false,
     "start_time": "2024-03-27T13:51:56.558094",
     "status": "completed"
    },
    "tags": []
   },
   "outputs": [
    {
     "name": "stdout",
     "output_type": "stream",
     "text": [
      "A sentença é falsa!\n"
     ]
    }
   ],
   "source": [
    "# Condicional if...else\n",
    "if 5 < 2:\n",
    "    print(\"A sentença é verdadeira!\")\n",
    "else:\n",
    "    print(\"A sentença é falsa!\")"
   ]
  },
  {
   "cell_type": "code",
   "execution_count": 15,
   "id": "77a4b430",
   "metadata": {
    "execution": {
     "iopub.execute_input": "2024-03-27T13:51:56.592557Z",
     "iopub.status.busy": "2024-03-27T13:51:56.592181Z",
     "iopub.status.idle": "2024-03-27T13:51:56.597104Z",
     "shell.execute_reply": "2024-03-27T13:51:56.596401Z"
    },
    "papermill": {
     "duration": 0.016429,
     "end_time": "2024-03-27T13:51:56.599268",
     "exception": false,
     "start_time": "2024-03-27T13:51:56.582839",
     "status": "completed"
    },
    "tags": []
   },
   "outputs": [
    {
     "name": "stdout",
     "output_type": "stream",
     "text": [
      "Hoje vai chover!\n"
     ]
    }
   ],
   "source": [
    "# Condicional if...else com variável\n",
    "dia = \"Quarta-feira\"\n",
    "if dia == \"Sexta-feira\":\n",
    "    print(\"Hoje fará sol!\")\n",
    "else:\n",
    "    print(\"Hoje vai chover!\")"
   ]
  },
  {
   "cell_type": "markdown",
   "id": "0df240d7",
   "metadata": {
    "papermill": {
     "duration": 0.007628,
     "end_time": "2024-03-27T13:51:56.614757",
     "exception": false,
     "start_time": "2024-03-27T13:51:56.607129",
     "status": "completed"
    },
    "tags": []
   },
   "source": [
    "# Manipulando arquivos\n",
    "# Lendo arquivos (.txt)"
   ]
  },
  {
   "cell_type": "code",
   "execution_count": 16,
   "id": "0da3abc2",
   "metadata": {
    "execution": {
     "iopub.execute_input": "2024-03-27T13:51:56.631974Z",
     "iopub.status.busy": "2024-03-27T13:51:56.631573Z",
     "iopub.status.idle": "2024-03-27T13:51:56.638241Z",
     "shell.execute_reply": "2024-03-27T13:51:56.637462Z"
    },
    "papermill": {
     "duration": 0.017705,
     "end_time": "2024-03-27T13:51:56.640258",
     "exception": false,
     "start_time": "2024-03-27T13:51:56.622553",
     "status": "completed"
    },
    "tags": []
   },
   "outputs": [],
   "source": [
    "# Abrindo o arquivo para leitura\n",
    "a1 = open(\"/kaggle/input/arquivotestenota/arquivodoGitHub.txt\", \"r\")"
   ]
  },
  {
   "cell_type": "code",
   "execution_count": 17,
   "id": "44232b6e",
   "metadata": {
    "execution": {
     "iopub.execute_input": "2024-03-27T13:51:56.658223Z",
     "iopub.status.busy": "2024-03-27T13:51:56.657849Z",
     "iopub.status.idle": "2024-03-27T13:51:56.666516Z",
     "shell.execute_reply": "2024-03-27T13:51:56.665394Z"
    },
    "papermill": {
     "duration": 0.020607,
     "end_time": "2024-03-27T13:51:56.669084",
     "exception": false,
     "start_time": "2024-03-27T13:51:56.648477",
     "status": "completed"
    },
    "tags": []
   },
   "outputs": [
    {
     "name": "stdout",
     "output_type": "stream",
     "text": [
      "\n",
      "Vai dar certo\n"
     ]
    }
   ],
   "source": [
    "# Lendo o arquivo\n",
    "print(a1.read())"
   ]
  },
  {
   "cell_type": "markdown",
   "id": "2a706568",
   "metadata": {
    "papermill": {
     "duration": 0.007798,
     "end_time": "2024-03-27T13:51:56.684840",
     "exception": false,
     "start_time": "2024-03-27T13:51:56.677042",
     "status": "completed"
    },
    "tags": []
   },
   "source": [
    "# Gravando arquivos (.txt)"
   ]
  },
  {
   "cell_type": "code",
   "execution_count": 18,
   "id": "201fb4e3",
   "metadata": {
    "execution": {
     "iopub.execute_input": "2024-03-27T13:51:56.703317Z",
     "iopub.status.busy": "2024-03-27T13:51:56.702942Z",
     "iopub.status.idle": "2024-03-27T13:51:56.707511Z",
     "shell.execute_reply": "2024-03-27T13:51:56.706486Z"
    },
    "papermill": {
     "duration": 0.016105,
     "end_time": "2024-03-27T13:51:56.709565",
     "exception": false,
     "start_time": "2024-03-27T13:51:56.693460",
     "status": "completed"
    },
    "tags": []
   },
   "outputs": [],
   "source": [
    "# Abrindo o arquivo para gravação\n",
    "a2 = open(\"/kaggle/working/bloco.txt\", \"w\")"
   ]
  },
  {
   "cell_type": "code",
   "execution_count": 19,
   "id": "224cd23e",
   "metadata": {
    "execution": {
     "iopub.execute_input": "2024-03-27T13:51:56.727054Z",
     "iopub.status.busy": "2024-03-27T13:51:56.726689Z",
     "iopub.status.idle": "2024-03-27T13:51:56.732721Z",
     "shell.execute_reply": "2024-03-27T13:51:56.731788Z"
    },
    "papermill": {
     "duration": 0.017343,
     "end_time": "2024-03-27T13:51:56.734770",
     "exception": false,
     "start_time": "2024-03-27T13:51:56.717427",
     "status": "completed"
    },
    "tags": []
   },
   "outputs": [
    {
     "data": {
      "text/plain": [
       "59"
      ]
     },
     "execution_count": 19,
     "metadata": {},
     "output_type": "execute_result"
    }
   ],
   "source": [
    "# Gravando no arquivo\n",
    "a2.write(\"Aprendendo Python em 2024/1 ao som de um cortador de grama!\")"
   ]
  },
  {
   "cell_type": "code",
   "execution_count": 20,
   "id": "2255669c",
   "metadata": {
    "execution": {
     "iopub.execute_input": "2024-03-27T13:51:56.752210Z",
     "iopub.status.busy": "2024-03-27T13:51:56.751868Z",
     "iopub.status.idle": "2024-03-27T13:51:56.755823Z",
     "shell.execute_reply": "2024-03-27T13:51:56.754954Z"
    },
    "papermill": {
     "duration": 0.015091,
     "end_time": "2024-03-27T13:51:56.757824",
     "exception": false,
     "start_time": "2024-03-27T13:51:56.742733",
     "status": "completed"
    },
    "tags": []
   },
   "outputs": [],
   "source": [
    "\n",
    "# Abrindo o arquivo para leitura\n",
    "a2 = open(\"/kaggle/working/bloco.txt\", \"r\")"
   ]
  },
  {
   "cell_type": "code",
   "execution_count": 21,
   "id": "00dcb953",
   "metadata": {
    "execution": {
     "iopub.execute_input": "2024-03-27T13:51:56.775557Z",
     "iopub.status.busy": "2024-03-27T13:51:56.775191Z",
     "iopub.status.idle": "2024-03-27T13:51:56.779564Z",
     "shell.execute_reply": "2024-03-27T13:51:56.778867Z"
    },
    "papermill": {
     "duration": 0.015983,
     "end_time": "2024-03-27T13:51:56.781937",
     "exception": false,
     "start_time": "2024-03-27T13:51:56.765954",
     "status": "completed"
    },
    "tags": []
   },
   "outputs": [
    {
     "name": "stdout",
     "output_type": "stream",
     "text": [
      "Aprendendo Python em 2024/1 ao som de um cortador de grama!\n"
     ]
    }
   ],
   "source": [
    "# Imprimindo arquivo\n",
    "print(a2.read())"
   ]
  },
  {
   "cell_type": "markdown",
   "id": "a6c37b8c",
   "metadata": {
    "papermill": {
     "duration": 0.007821,
     "end_time": "2024-03-27T13:51:56.798834",
     "exception": false,
     "start_time": "2024-03-27T13:51:56.791013",
     "status": "completed"
    },
    "tags": []
   },
   "source": []
  }
 ],
 "metadata": {
  "kaggle": {
   "accelerator": "none",
   "dataSources": [
    {
     "datasetId": 4680180,
     "sourceId": 7956850,
     "sourceType": "datasetVersion"
    },
    {
     "datasetId": 4680329,
     "sourceId": 7957042,
     "sourceType": "datasetVersion"
    },
    {
     "datasetId": 4680514,
     "sourceId": 7957284,
     "sourceType": "datasetVersion"
    }
   ],
   "dockerImageVersionId": 30673,
   "isGpuEnabled": false,
   "isInternetEnabled": false,
   "language": "python",
   "sourceType": "notebook"
  },
  "kernelspec": {
   "display_name": "Python 3",
   "language": "python",
   "name": "python3"
  },
  "language_info": {
   "codemirror_mode": {
    "name": "ipython",
    "version": 3
   },
   "file_extension": ".py",
   "mimetype": "text/x-python",
   "name": "python",
   "nbconvert_exporter": "python",
   "pygments_lexer": "ipython3",
   "version": "3.10.13"
  },
  "papermill": {
   "default_parameters": {},
   "duration": 3.610291,
   "end_time": "2024-03-27T13:51:57.126443",
   "environment_variables": {},
   "exception": null,
   "input_path": "__notebook__.ipynb",
   "output_path": "__notebook__.ipynb",
   "parameters": {},
   "start_time": "2024-03-27T13:51:53.516152",
   "version": "2.5.0"
  }
 },
 "nbformat": 4,
 "nbformat_minor": 5
}
