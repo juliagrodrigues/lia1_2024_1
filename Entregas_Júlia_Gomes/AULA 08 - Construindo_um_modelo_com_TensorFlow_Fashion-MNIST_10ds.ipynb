{
  "nbformat": 4,
  "nbformat_minor": 0,
  "metadata": {
    "colab": {
      "provenance": [],
      "gpuType": "T4",
      "authorship_tag": "ABX9TyPwOfh6fBo0buG4ZOS929xG",
      "include_colab_link": true
    },
    "kernelspec": {
      "name": "python3",
      "display_name": "Python 3"
    },
    "language_info": {
      "name": "python"
    },
    "accelerator": "GPU"
  },
  "cells": [
    {
      "cell_type": "markdown",
      "metadata": {
        "id": "view-in-github",
        "colab_type": "text"
      },
      "source": [
        "<a href=\"https://colab.research.google.com/github/juliagrodrigues/lia1_2024_1/blob/main/Entregas_J%C3%BAlia_Gomes/Aula_08_Construindo_um_modelo_com_TensorFlow_Fashion-MNIST_10ds.ipynb\" target=\"_parent\"><img src=\"https://colab.research.google.com/assets/colab-badge.svg\" alt=\"Open In Colab\"/></a>"
      ]
    },
    {
      "cell_type": "markdown",
      "source": [
        "# **Projeto Ponta a Ponta - Construindo um Modelo com Tensorflow - Cifar-10**\n",
        "\n",
        "Problema: construir um modelo de Inteligência Artificial capaz de classificar imagens, considerando 10 categorias, sendo: airplane; automobile; bird; cat; deer; dog; frog; horse; ship; truck.\n",
        "\n",
        "Não há mágica. Há matemática! 🧙"
      ],
      "metadata": {
        "id": "og1GNGwG6HBg"
      }
    },
    {
      "cell_type": "markdown",
      "source": [
        "**Fonte de dados**\n",
        "\n",
        "Fashion-MNIST é um conjunto de dados de imagens de artigos de Zalando que consiste em um conjunto de treinamento de 60.000 exemplos e um conjunto de teste de 10.000 exemplos. Cada exemplo é uma imagem em tons de cinza 28x28, associada a um rótulo de 10 classes."
      ],
      "metadata": {
        "id": "8FhqLqUk6wDu"
      }
    },
    {
      "cell_type": "code",
      "source": [
        "# Importando o necessário\n",
        "import tensorflow as tf\n",
        "from tensorflow.keras import datasets, layers, models\n",
        "import matplotlib.pyplot as plt\n",
        "import numpy as np\n",
        "from PIL import Image"
      ],
      "metadata": {
        "id": "33wHbPP96rHM"
      },
      "execution_count": 1,
      "outputs": []
    },
    {
      "cell_type": "markdown",
      "source": [
        "**Carregando os dados de modelos e teste**"
      ],
      "metadata": {
        "id": "07TaTJs09ROZ"
      }
    },
    {
      "cell_type": "code",
      "source": [
        "# Carrega o dataset Fashion MNIST - Já está no Keras!\n",
        "(imagens_treino, labels_treino), (imagens_teste, labels_teste) = datasets.fashion_mnist.load_data()"
      ],
      "metadata": {
        "id": "T9IouzYv8KVE",
        "colab": {
          "base_uri": "https://localhost:8080/"
        },
        "outputId": "9760a80e-0e7f-4520-a22f-00d0e33c34ce"
      },
      "execution_count": 2,
      "outputs": [
        {
          "output_type": "stream",
          "name": "stdout",
          "text": [
            "Downloading data from https://storage.googleapis.com/tensorflow/tf-keras-datasets/train-labels-idx1-ubyte.gz\n",
            "29515/29515 [==============================] - 0s 0us/step\n",
            "Downloading data from https://storage.googleapis.com/tensorflow/tf-keras-datasets/train-images-idx3-ubyte.gz\n",
            "26421880/26421880 [==============================] - 0s 0us/step\n",
            "Downloading data from https://storage.googleapis.com/tensorflow/tf-keras-datasets/t10k-labels-idx1-ubyte.gz\n",
            "5148/5148 [==============================] - 0s 0us/step\n",
            "Downloading data from https://storage.googleapis.com/tensorflow/tf-keras-datasets/t10k-images-idx3-ubyte.gz\n",
            "4422102/4422102 [==============================] - 0s 0us/step\n"
          ]
        }
      ]
    },
    {
      "cell_type": "code",
      "source": [
        "# Classes das imagens\n",
        "nomes_classes = ['camisetas','calças', 'sueteres', 'vestido', 'casacos', 'sandalias', 'camisas', 'tenis', 'bolsas', 'botas']"
      ],
      "metadata": {
        "id": "AtCZx_eE8OOy"
      },
      "execution_count": 3,
      "outputs": []
    },
    {
      "cell_type": "markdown",
      "source": [
        "# **Pré-processamento**\n"
      ],
      "metadata": {
        "id": "ZuMuKS6N8uSc"
      }
    },
    {
      "cell_type": "code",
      "source": [
        "# Normaliza os valores dos pixels para que os dados fiquem na mesma escala\n",
        "imagens_treino = imagens_treino / 255.0\n",
        "imagens_teste = imagens_teste / 255.0"
      ],
      "metadata": {
        "id": "K_x6tfrz81yX"
      },
      "execution_count": 4,
      "outputs": []
    },
    {
      "cell_type": "code",
      "source": [
        "# Função para exibir as imagens\n",
        "def visualiza_imagens(images, labels):\n",
        "    plt.figure(figsize = (10,10))\n",
        "    for i in range(16):\n",
        "        plt.subplot(4, 4, i+1)\n",
        "        plt.xticks([])\n",
        "        plt.yticks([])\n",
        "        plt.grid(False)\n",
        "        plt.imshow(images[i], cmap = plt.cm.binary)\n",
        "        plt.xlabel(nomes_classes[labels[i]])\n",
        "    plt.show()"
      ],
      "metadata": {
        "id": "8Uy1psOv9AOo"
      },
      "execution_count": 5,
      "outputs": []
    },
    {
      "cell_type": "code",
      "source": [
        "# Executa a função\n",
        "visualiza_imagens(imagens_treino, labels_treino)"
      ],
      "metadata": {
        "colab": {
          "base_uri": "https://localhost:8080/",
          "height": 826
        },
        "id": "IqYnyYgR9LnY",
        "outputId": "7fcca151-2151-4d6a-a304-578b1c5fc99c"
      },
      "execution_count": 6,
      "outputs": [
        {
          "output_type": "display_data",
          "data": {
            "text/plain": [
              "<Figure size 1000x1000 with 16 Axes>"
            ],
            "image/png": "[encoded data removed]"
          },
          "metadata": {}
        }
      ]
    },
    {
      "cell_type": "markdown",
      "source": [
        "Construindo a Rede Neural Convolucional\n",
        "O Keras é uma biblioteca do TensorFlow."
      ],
      "metadata": {
        "id": "L-RIicrs-NsA"
      }
    },
    {
      "cell_type": "code",
      "source": [
        "# Arquitetura do Modelo -> Feature Learning"
      ],
      "metadata": {
        "id": "96zervd--Uk1"
      },
      "execution_count": 7,
      "outputs": []
    },
    {
      "cell_type": "code",
      "source": [
        "# Cria o objeto de sequência de camadas - do Keras\n",
        "modelo_lia = models.Sequential()"
      ],
      "metadata": {
        "id": "ObiAsE0c-Wfg"
      },
      "execution_count": 8,
      "outputs": []
    },
    {
      "cell_type": "code",
      "source": [
        "# Adiciona a primeira camada de convolução e max pooling (camada de entrada)\n",
        "modelo_lia.add(layers.Conv2D(28, (3, 3), activation='relu', input_shape=(28, 28, 1)))\n",
        "modelo_lia.add(layers.MaxPooling2D((2, 2)))"
      ],
      "metadata": {
        "id": "b-bBpEqr-Zw6"
      },
      "execution_count": 9,
      "outputs": []
    },
    {
      "cell_type": "code",
      "source": [
        "# Adiciona a segunda camada de convolução e max pooling (camada intermediária)\n",
        "modelo_lia.add(layers.Conv2D(64, (3, 3), activation = 'relu'))\n",
        "modelo_lia.add(layers.MaxPooling2D((2, 2)))\n"
      ],
      "metadata": {
        "id": "dALM_3Dd-aid"
      },
      "execution_count": 10,
      "outputs": []
    },
    {
      "cell_type": "code",
      "source": [
        "# Adiciona a terceira camada de convolução e max pooling (camada intermediária)\n",
        "modelo_lia.add(layers.Conv2D(64, (3, 3), activation = 'relu'))\n",
        "modelo_lia.add(layers.MaxPooling2D((2, 2)))"
      ],
      "metadata": {
        "id": "6y0r0dF9-cZl"
      },
      "execution_count": 11,
      "outputs": []
    },
    {
      "cell_type": "code",
      "source": [
        "# Adicionar camadas de classificação - Converte para um vetor - flatten\n",
        "modelo_lia.add(layers.Flatten())\n",
        "modelo_lia.add(layers.Dense(64, activation = 'relu'))\n",
        "modelo_lia.add(layers.Dense(10, activation = 'softmax'))"
      ],
      "metadata": {
        "id": "h9w6hTCnSwuK"
      },
      "execution_count": 12,
      "outputs": []
    },
    {
      "cell_type": "code",
      "source": [
        "# Compile o modelo antes de treiná-lo\n",
        "modelo_lia.compile(optimizer='adam',\n",
        "                   loss='sparse_categorical_crossentropy',\n",
        "                   metrics=['accuracy'])"
      ],
      "metadata": {
        "id": "fKYNo9VuPjD1"
      },
      "execution_count": 41,
      "outputs": []
    },
    {
      "cell_type": "code",
      "source": [
        "# adam - é um algoritmo de aprendizagem tipo backpropagation!\n",
        "# loss - função de erro. Isso se resume a uma otimização função matemática!\n",
        "# metrics - medir o sucesso!"
      ],
      "metadata": {
        "id": "pMUevEPt_Ir6"
      },
      "execution_count": 42,
      "outputs": []
    },
    {
      "cell_type": "code",
      "source": [
        "# Executando o treinamento\n",
        "%%time\n",
        "history = modelo_lia.fit(imagens_treino,\n",
        "                         labels_treino,\n",
        "                         epochs = 16,\n",
        "                         validation_data = (imagens_teste, labels_teste))"
      ],
      "metadata": {
        "colab": {
          "base_uri": "https://localhost:8080/"
        },
        "id": "ilJAKcXB_qh2",
        "outputId": "90ae4c3b-0d2e-4569-cc48-ab879a9a3322"
      },
      "execution_count": 15,
      "outputs": [
        {
          "output_type": "stream",
          "name": "stdout",
          "text": [
            "Epoch 1/16\n",
            "1875/1875 [==============================] - 13s 5ms/step - loss: 0.5800 - accuracy: 0.7888 - val_loss: 0.4605 - val_accuracy: 0.8303\n",
            "Epoch 2/16\n",
            "1875/1875 [==============================] - 7s 4ms/step - loss: 0.3912 - accuracy: 0.8568 - val_loss: 0.3774 - val_accuracy: 0.8600\n",
            "Epoch 3/16\n",
            "1875/1875 [==============================] - 8s 4ms/step - loss: 0.3404 - accuracy: 0.8752 - val_loss: 0.3588 - val_accuracy: 0.8714\n",
            "Epoch 4/16\n",
            "1875/1875 [==============================] - 9s 5ms/step - loss: 0.3079 - accuracy: 0.8877 - val_loss: 0.3355 - val_accuracy: 0.8781\n",
            "Epoch 5/16\n",
            "1875/1875 [==============================] - 8s 4ms/step - loss: 0.2811 - accuracy: 0.8963 - val_loss: 0.3289 - val_accuracy: 0.8803\n",
            "Epoch 6/16\n",
            "1875/1875 [==============================] - 8s 4ms/step - loss: 0.2598 - accuracy: 0.9037 - val_loss: 0.3292 - val_accuracy: 0.8817\n",
            "Epoch 7/16\n",
            "1875/1875 [==============================] - 8s 4ms/step - loss: 0.2414 - accuracy: 0.9103 - val_loss: 0.3249 - val_accuracy: 0.8824\n",
            "Epoch 8/16\n",
            "1875/1875 [==============================] - 8s 4ms/step - loss: 0.2267 - accuracy: 0.9150 - val_loss: 0.3014 - val_accuracy: 0.8947\n",
            "Epoch 9/16\n",
            "1875/1875 [==============================] - 8s 4ms/step - loss: 0.2119 - accuracy: 0.9213 - val_loss: 0.3247 - val_accuracy: 0.8887\n",
            "Epoch 10/16\n",
            "1875/1875 [==============================] - 8s 4ms/step - loss: 0.2019 - accuracy: 0.9239 - val_loss: 0.3323 - val_accuracy: 0.8924\n",
            "Epoch 11/16\n",
            "1875/1875 [==============================] - 8s 4ms/step - loss: 0.1891 - accuracy: 0.9301 - val_loss: 0.3358 - val_accuracy: 0.8853\n",
            "Epoch 12/16\n",
            "1875/1875 [==============================] - 8s 4ms/step - loss: 0.1787 - accuracy: 0.9326 - val_loss: 0.3264 - val_accuracy: 0.8944\n",
            "Epoch 13/16\n",
            "1875/1875 [==============================] - 8s 4ms/step - loss: 0.1683 - accuracy: 0.9373 - val_loss: 0.3381 - val_accuracy: 0.8923\n",
            "Epoch 14/16\n",
            "1875/1875 [==============================] - 9s 5ms/step - loss: 0.1577 - accuracy: 0.9415 - val_loss: 0.3381 - val_accuracy: 0.8959\n",
            "Epoch 15/16\n",
            "1875/1875 [==============================] - 7s 4ms/step - loss: 0.1521 - accuracy: 0.9437 - val_loss: 0.3633 - val_accuracy: 0.8940\n",
            "Epoch 16/16\n",
            "1875/1875 [==============================] - 8s 4ms/step - loss: 0.1434 - accuracy: 0.9464 - val_loss: 0.3676 - val_accuracy: 0.8942\n",
            "CPU times: user 2min 16s, sys: 8.6 s, total: 2min 24s\n",
            "Wall time: 2min 16s\n"
          ]
        }
      ]
    },
    {
      "cell_type": "markdown",
      "source": [
        "Previsão - Testar o modelo (Deploy)\n",
        "\n",
        "Testar o modelo treinado com imagens que ele ainda não viu. Por fim, verificamos o resultado da previsão e emitimos a informação sobre a classe.\n"
      ],
      "metadata": {
        "id": "FZZ29I19B9-7"
      }
    },
    {
      "cell_type": "code",
      "source": [
        "# Carrega uma nova imagem\n",
        "nova_imagem = Image.open(\"/content/images/camiseta.jpg\")\n",
        "\n",
        "# Redimensiona para 28x28 pixels\n",
        "nova_imagem = nova_imagem.convert('L')\n",
        "nova_imagem = nova_imagem.resize((28, 28))\n",
        "\n",
        "# Exibir a imagem\n",
        "plt.figure(figsize = (1,1))\n",
        "plt.imshow(nova_imagem, cmap='gray')  # Specify cmap='gray' to display grayscale image\n",
        "plt.xticks([])\n",
        "plt.yticks([])\n",
        "plt.show()"
      ],
      "metadata": {
        "colab": {
          "base_uri": "https://localhost:8080/",
          "height": 114
        },
        "id": "mfXf2OoTB-nW",
        "outputId": "303d4ba4-a5ca-4fdc-8ba1-81d049af36c9"
      },
      "execution_count": 44,
      "outputs": [
        {
          "output_type": "display_data",
          "data": {
            "text/plain": [
              "<Figure size 100x100 with 1 Axes>"
            ],
            "image/png": "[encoded data removed]"
          },
          "metadata": {}
        }
      ]
    },
    {
      "cell_type": "code",
      "source": [
        "# Converte a imagem para um array NumPy e normaliza\n",
        "nova_imagem_array = np.array(nova_imagem) / 255.0\n"
      ],
      "metadata": {
        "id": "s2jsRSE9CvxM"
      },
      "execution_count": 45,
      "outputs": []
    },
    {
      "cell_type": "code",
      "source": [
        "# Expande a dimensão do array para que ele tenha o formato (1, 28, 28, 1)\n",
        "nova_imagem_array = np.expand_dims(nova_imagem_array, axis = 0)"
      ],
      "metadata": {
        "id": "zb3_824CCy-E"
      },
      "execution_count": 46,
      "outputs": []
    },
    {
      "cell_type": "code",
      "source": [
        "# Fazendo a previsão!\n",
        "previsoes = modelo_lia.predict(nova_imagem_array)"
      ],
      "metadata": {
        "colab": {
          "base_uri": "https://localhost:8080/"
        },
        "id": "JhLFPY14C_nv",
        "outputId": "2f043de8-5cc0-4d8f-c195-cac6eb29123c"
      },
      "execution_count": 47,
      "outputs": [
        {
          "output_type": "stream",
          "name": "stdout",
          "text": [
            "1/1 [==============================] - 0s 250ms/step\n"
          ]
        }
      ]
    },
    {
      "cell_type": "code",
      "source": [
        "print(previsoes)"
      ],
      "metadata": {
        "colab": {
          "base_uri": "https://localhost:8080/"
        },
        "id": "JtyfVVJrDGMq",
        "outputId": "8510921c-e952-4f92-fb94-f2d98d67a223"
      },
      "execution_count": 48,
      "outputs": [
        {
          "output_type": "stream",
          "name": "stdout",
          "text": [
            "[[8.1457287e-01 5.3822106e-07 1.2563680e-01 3.2715615e-02 2.6384005e-04\n",
            "  4.3443342e-05 2.2171788e-02 4.3121497e-09 4.3587009e-03 2.3638809e-04]]\n"
          ]
        }
      ]
    },
    {
      "cell_type": "code",
      "source": [
        "# Obtém a classe com maior probabilidade e o nome da classe\n",
        "classe_prevista = np.argmax(previsoes)\n",
        "nome_classe_prevista = nomes_classes[classe_prevista]\n"
      ],
      "metadata": {
        "id": "s0232goMEabf"
      },
      "execution_count": 49,
      "outputs": []
    },
    {
      "cell_type": "code",
      "source": [
        "print(\"A nova imagem foi classificada como:\", nome_classe_prevista)"
      ],
      "metadata": {
        "colab": {
          "base_uri": "https://localhost:8080/"
        },
        "id": "1bHoQ9ojE3bU",
        "outputId": "85d2b4a0-653c-42da-b87e-2c649beb19c3"
      },
      "execution_count": 50,
      "outputs": [
        {
          "output_type": "stream",
          "name": "stdout",
          "text": [
            "A nova imagem foi classificada como: camisetas\n"
          ]
        }
      ]
    }
  ]
}
