{
 "cells": [
  {
   "cell_type": "markdown",
   "id": "eac7b1b8-b9e0-43c7-88cd-e7238a0ee063",
   "metadata": {},
   "source": [
    "<hr style=\"height:10px\"> \n",
    " \n",
    "<div class='container2'>\n",
    "\t\t<div>\n",
    "\t\t\t<img src=\"imagem.jpg\" ALIGN='left' style='width:10em'>\n",
    "\t\t</div>\t\n",
    "\t<div style='padding: 0 7em 2em 12em;'>\n",
    "\t<h1>Laboratório de Inovação e Automação 1 (LIA 1)</h1>\n",
    "\t<div style=\"font-size:12pt;float:left;\"> 2024/1 | 24M34 | Sala 200 CAE</div><br><br>\n",
    "    <div style=\"font-size:12pt;float:left;\"><b>Projetos de Inteligência Artificial</b></div>\n",
    "\t</div>\n",
    "</div>\n",
    "\n",
    "\n",
    " <hr style=\"height:5px\"> \n",
    "\n",
    "    \n",
    "<h2>Introdução ao Ambiente de Projetos - Python</h2>\n",
    "\n",
    "Notebook desenvolvido por: <a href=\"https://www.linkedin.com/in/juliiajgr\"> Júlia Gomes Rodrigues </a>\n",
    "\n",
    " <hr style=\"height:2px\">"
   ]
  },
  {
   "cell_type": "code",
   "execution_count": 9,
   "id": "993daf56-900d-43fd-9a29-fa9c9c4fbca5",
   "metadata": {},
   "outputs": [
    {
     "data": {
      "text/plain": [
       "int"
      ]
     },
     "execution_count": 9,
     "metadata": {},
     "output_type": "execute_result"
    }
   ],
   "source": [
    "#Tipo de Dados (Type)\n",
    "# Qual o tipo do (?) -> Inteiro\n",
    "type(5)"
   ]
  },
  {
   "cell_type": "code",
   "execution_count": null,
   "id": "9e97e6de-31b7-4a11-8276-b7cfd3d60877",
   "metadata": {},
   "outputs": [],
   "source": [
    "# Qual o tipo do (?) -> Float - Decimal\n",
    "type(5.0)"
   ]
  },
  {
   "cell_type": "code",
   "execution_count": null,
   "id": "8301ab5c-5da0-4852-a089-1cbd4a922c8e",
   "metadata": {},
   "outputs": [],
   "source": [
    "#Condicional if\n",
    "# Condicional if (Se)\n",
    "if 5 > 2:\n",
    "    print(\"A sentença é verdadeira!\")\n",
    "# Condicional if...else\n",
    "if 5 < 2:\n",
    "    print(\"A sentença é verdadeira!\")\n",
    "else:\n",
    "    print(\"A sentença é falsa!\")\n"
   ]
  },
  {
   "cell_type": "code",
   "execution_count": 4,
   "id": "06cd8d80-1dad-4fb3-bc94-f04104d0e7d3",
   "metadata": {},
   "outputs": [
    {
     "name": "stdout",
     "output_type": "stream",
     "text": [
      "Vai dar certo\n"
     ]
    }
   ],
   "source": [
    "#Lendo arquivos (.txt)\n",
    "# Abrindo o arquivo para leitura\n",
    "a1 = open(\"bloco.txt\", \"r\")\n",
    "# Lendo o arquivo\n",
    "print(a1.read())\n"
   ]
  },
  {
   "cell_type": "code",
   "execution_count": 6,
   "id": "26753d09-2ae1-416a-95de-052b65c636d0",
   "metadata": {},
   "outputs": [
    {
     "data": {
      "text/plain": [
       "28"
      ]
     },
     "execution_count": 6,
     "metadata": {},
     "output_type": "execute_result"
    }
   ],
   "source": [
    "#Gravando arquivos (.txt)\n",
    "# Abrindo o arquivo para gravação\n",
    "a2 = open(\"bloco.txt\", \"w\")\n",
    "# Gravando no arquivo\n",
    "a2.write(\"Aprendendo Python em 2024/1!\")"
   ]
  },
  {
   "cell_type": "code",
   "execution_count": null,
   "id": "0dcb2f6e-97c5-4497-a566-96f6c22cf139",
   "metadata": {},
   "outputs": [],
   "source": []
  },
  {
   "cell_type": "code",
   "execution_count": null,
   "id": "0f5cd7a9-8b3b-495a-8a15-21f264c15613",
   "metadata": {},
   "outputs": [],
   "source": []
  },
  {
   "cell_type": "code",
   "execution_count": null,
   "id": "609b5c77-f279-45c8-95b5-cf82d7e607e7",
   "metadata": {},
   "outputs": [],
   "source": []
  }
 ],
 "metadata": {
  "kernelspec": {
   "display_name": "Python 3 (ipykernel)",
   "language": "python",
   "name": "python3"
  },
  "language_info": {
   "codemirror_mode": {
    "name": "ipython",
    "version": 3
   },
   "file_extension": ".py",
   "mimetype": "text/x-python",
   "name": "python",
   "nbconvert_exporter": "python",
   "pygments_lexer": "ipython3",
   "version": "3.11.7"
  }
 },
 "nbformat": 4,
 "nbformat_minor": 5
}
